{
 "cells": [
  {
   "cell_type": "code",
   "execution_count": 5,
   "id": "cffe7909-4571-4461-8d38-e446e6c751da",
   "metadata": {},
   "outputs": [
    {
     "name": "stdout",
     "output_type": "stream",
     "text": [
      "vishal\n",
      "kumar\n",
      "raushan\n",
      "kumar\n"
     ]
    }
   ],
   "source": [
    "#Q1. Explain with an example each when to use a for loop and a while loop.\n",
    "\n",
    "#For loop\n",
    "\n",
    "l1 = [\"vishal\",\"kumar\",\"raushan\",\"kumar\"]\n",
    "for i in l1:\n",
    "    print(i)"
   ]
  },
  {
   "cell_type": "code",
   "execution_count": 6,
   "id": "457a8c36-5615-4e60-aabe-91a7c9b61a75",
   "metadata": {},
   "outputs": [
    {
     "name": "stdout",
     "output_type": "stream",
     "text": [
      "1\n",
      "2\n",
      "3\n",
      "4\n",
      "5\n",
      "6\n",
      "7\n",
      "8\n",
      "9\n",
      "10\n"
     ]
    }
   ],
   "source": [
    "# while loop\n",
    "a = 1\n",
    "while a <= 10 :\n",
    "    print(a)\n",
    "    a = a + 1"
   ]
  },
  {
   "cell_type": "code",
   "execution_count": 7,
   "id": "70118bab-6c98-4879-8fb2-46438b4ce329",
   "metadata": {},
   "outputs": [
    {
     "name": "stdout",
     "output_type": "stream",
     "text": [
      "sum of 1st 10 natural number is : 55\n"
     ]
    }
   ],
   "source": [
    "#Q2. Write a python program to print the sum and product of the first 10 natural numbers using for and while loop.\n",
    "sum = 0\n",
    "for i in range(1,11):\n",
    "    sum=sum+i\n",
    "print(\"sum of 1st 10 natural number is :\",sum)"
   ]
  },
  {
   "cell_type": "code",
   "execution_count": 8,
   "id": "f3f799e7-7294-4f03-8322-3c25233aa71f",
   "metadata": {},
   "outputs": [
    {
     "name": "stdout",
     "output_type": "stream",
     "text": [
      "sum of 1st 10 natural number is : 55\n"
     ]
    }
   ],
   "source": [
    "sum=0\n",
    "i=1\n",
    "while i<=10:\n",
    "    sum=sum+i\n",
    "    i=i+1\n",
    "print(\"sum of 1st 10 natural number is :\",sum)"
   ]
  },
  {
   "cell_type": "code",
   "execution_count": 9,
   "id": "c7ec94e4-352d-4888-887a-a6a84140e9f1",
   "metadata": {},
   "outputs": [
    {
     "name": "stdout",
     "output_type": "stream",
     "text": [
      "the product of 10 natural number is : 3628800\n"
     ]
    }
   ],
   "source": [
    "product = 1\n",
    "for i in range(1,11):\n",
    "    product=product * i\n",
    "print(\"the product of 10 natural number is :\",product)"
   ]
  },
  {
   "cell_type": "code",
   "execution_count": 10,
   "id": "67a2850a-f2c8-4bfb-840f-8f7c82ae9e04",
   "metadata": {},
   "outputs": [
    {
     "name": "stdout",
     "output_type": "stream",
     "text": [
      "product of 1st 10 natural number is : 3628800\n"
     ]
    }
   ],
   "source": [
    "product=1\n",
    "i=1\n",
    "while i<=10:\n",
    "    product=product * i\n",
    "    i = i + 1\n",
    "print(\"product of 1st 10 natural number is :\",product)"
   ]
  },
  {
   "cell_type": "code",
   "execution_count": 11,
   "id": "c5829c1e-d8e6-42e7-8a15-e6592ace11d7",
   "metadata": {},
   "outputs": [
    {
     "name": "stdout",
     "output_type": "stream",
     "text": [
      "Bill total Unit: 2250\n"
     ]
    }
   ],
   "source": [
    "# Q3. Create a python program to compute the electricity bill for a household.\n",
    "#     The per-unit charges in rupees are as follows: For the first 100 units, the user will be charged Rs. 4.5 per \n",
    "#     unit, for the next 100 units, the user will be charged Rs. 6 per unit, and for the next 100 units, the user will\n",
    "#     be charged Rs. 10 per unit, After 300 units and above the user will be charged Rs. 20 per unit.\n",
    "#     You are required to take the units of electricity consumed in a month from the user as input.\n",
    "#     Your program must pass this test case: when the unit of electricity consumed by the user in a month is 310, the total electricity bill should be 2250.\n",
    "\n",
    "unit = 310\n",
    "if unit <= 100:\n",
    "    bill = unit * 4.5\n",
    "elif unit >= 101 and unit <= 200:\n",
    "    bill = 450 + ((unit - 210) * 6)\n",
    "elif unit >= 201 and unit <= 300:\n",
    "    bill = 450 + 600 + ((unit - 210) * 10)\n",
    "elif unit >= 301 and unit <= 310:\n",
    "    bill = 450 + 600 + 1000 + ((unit - 300) * 20)\n",
    "else:\n",
    "    bill = 346 + 1486 + 2064 + 200\n",
    "print(\"Bill total Unit:\",bill)\n"
   ]
  },
  {
   "cell_type": "code",
   "execution_count": 12,
   "id": "d82c5f5a-f745-49d6-a89f-904cebee5014",
   "metadata": {
    "tags": []
   },
   "outputs": [
    {
     "name": "stdout",
     "output_type": "stream",
     "text": [
      "[0.25, 2.0, 6.75, 16.0, 31.25, 54.0, 85.75, 128.0, 182.25, 250.0, 332.75, 432.0, 549.25, 686.0, 843.75, 1024.0, 1228.25, 1458.0, 1714.75, 2000.0, 2315.25, 2662.0, 3041.75, 3456.0, 3906.25, 4394.0, 4920.75, 5488.0, 6097.25, 6750.0, 7447.75, 8192.0, 8984.25, 9826.0, 10718.75, 11664.0, 12663.25, 13718.0, 14829.75, 16000.0, 17230.25, 18522.0, 19876.75, 21296.0, 22781.25, 24334.0, 25955.75, 27648.0, 29412.25, 31250.0, 33162.75, 35152.0, 37219.25, 39366.0, 41593.75, 43904.0, 46298.25, 48778.0, 51344.75, 54000.0, 56745.25, 59582.0, 62511.75, 65536.0, 68656.25, 71874.0, 75190.75, 78608.0, 82127.25, 85750.0, 89477.75, 93312.0, 97254.25, 101306.0, 105468.75, 109744.0, 114133.25, 118638.0, 123259.75, 128000.0, 132860.25, 137842.0, 142946.75, 148176.0, 153531.25, 159014.0, 164625.75, 170368.0, 176242.25, 182250.0, 188392.75, 194672.0, 201089.25, 207646.0, 214343.75, 221184.0, 228168.25, 235298.0, 242574.75, 250000.0]\n"
     ]
    }
   ],
   "source": [
    "# Q4. Create a list of numbers from 1 to 100. Use for loop and while loop to calculate the cube of each\n",
    "#     number and if the cube of that number is divisible by 4 or 5 then append that number in a list and print that list.\n",
    "l1 = [ 1, 2, 3, 4, 5, 6, 7, 8, 9, 10, 11, 12, 13, 14, 15, 16, 17, 18, 19, 20, 21, 22, 23, 24, 25,26, 27, 28, 29, 30, 31, 32, 33, 34, 35, 36, 37, 38, 39, 40, 41, 42, 43, 44, 45, 46, 47, 48, 49, 50, 51, 52, 53, 54, 55, 56, 57, 58, 59, 60, 61, 62, 63, 64, 65, 66, 67, 68, 69, 70, 71, 72, 73, 74, 75, 76, 77, 78, 79, 80, 81, 82, 83, 84, 85, 86, 87, 88, 89, 90, 91, 92, 93, 94, 95, 96, 97, 98, 99,100]\n",
    "l2 = []\n",
    "for i in l1:\n",
    "\tl2.append((i*i*i)/4)\n",
    "print(l2)\n"
   ]
  },
  {
   "cell_type": "code",
   "execution_count": 13,
   "id": "8caee040-a18b-41b3-b825-2859412d5d55",
   "metadata": {},
   "outputs": [
    {
     "name": "stdout",
     "output_type": "stream",
     "text": [
      "Number of vowels in the given string is:  11\n"
     ]
    }
   ],
   "source": [
    "# Q5. Write a program to filter count vowels in the below-given string. \n",
    "#     string = \"I want to become a data scientist\"\n",
    "string = \"I want to become a data scientist\"\n",
    "count = 0\n",
    "vowels = [\"a\", \"e\", \"i\", \"o\", \"u\"]\n",
    "\n",
    "for i in range(len(string)):\n",
    "    if string[i] in vowels:\n",
    "        count += 1\n",
    "\n",
    "print(\"Number of vowels in the given string is: \", count)"
   ]
  },
  {
   "cell_type": "code",
   "execution_count": null,
   "id": "7c2c971e-7d4c-4e4c-9365-010005d1fd5d",
   "metadata": {},
   "outputs": [],
   "source": []
  }
 ],
 "metadata": {
  "kernelspec": {
   "display_name": "Python 3 (ipykernel)",
   "language": "python",
   "name": "python3"
  },
  "language_info": {
   "codemirror_mode": {
    "name": "ipython",
    "version": 3
   },
   "file_extension": ".py",
   "mimetype": "text/x-python",
   "name": "python",
   "nbconvert_exporter": "python",
   "pygments_lexer": "ipython3",
   "version": "3.10.8"
  }
 },
 "nbformat": 4,
 "nbformat_minor": 5
}
